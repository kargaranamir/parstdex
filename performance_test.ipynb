{
  "nbformat": 4,
  "nbformat_minor": 0,
  "metadata": {
    "colab": {
      "name": "performance_test.ipynb",
      "provenance": [],
      "collapsed_sections": [],
      "authorship_tag": "ABX9TyNJLwgJNVzA84vekTlbmFOT",
      "include_colab_link": true
    },
    "kernelspec": {
      "name": "python3",
      "display_name": "Python 3"
    },
    "language_info": {
      "name": "python"
    }
  },
  "cells": [
    {
      "cell_type": "markdown",
      "metadata": {
        "id": "view-in-github",
        "colab_type": "text"
      },
      "source": [
        "<a href=\"https://colab.research.google.com/github/kargaranamir/parstdex/blob/main/performance_test.ipynb\" target=\"_parent\"><img src=\"https://colab.research.google.com/assets/colab-badge.svg\" alt=\"Open In Colab\"/></a>"
      ]
    },
    {
      "cell_type": "code",
      "source": [
        "import time # add time library to measure performance of code\n",
        "import json # add json library to load test cases\n",
        "import numpy as np # for computation\n",
        "import pprint # beautiful print"
      ],
      "metadata": {
        "id": "g2yTQq_sf3u6"
      },
      "execution_count": 1,
      "outputs": []
    },
    {
      "cell_type": "code",
      "execution_count": null,
      "metadata": {
        "id": "-YAi1EEK5Xtt"
      },
      "outputs": [],
      "source": [
        "# install parstdex\n",
        "! pip install parstdex"
      ]
    },
    {
      "cell_type": "code",
      "source": [
        "# downlaod examples (test cases)\n",
        "! wget https://raw.githubusercontent.com/kargaranamir/parstdex/main/tests/data.json"
      ],
      "metadata": {
        "id": "yoQXG5h5idwC"
      },
      "execution_count": null,
      "outputs": []
    },
    {
      "cell_type": "code",
      "source": [
        "# load test cases \n",
        "test_data_file = open('data.json', 'r', encoding='utf-8-sig')\n",
        "test_inputs = json.load(test_data_file)\n",
        "print(f\"Number of test cases: {len(test_inputs)}\")"
      ],
      "metadata": {
        "colab": {
          "base_uri": "https://localhost:8080/"
        },
        "id": "ZzvypNKHit6z",
        "outputId": "56c2e89c-94ad-47c6-f4df-fedaa88e0c69"
      },
      "execution_count": 4,
      "outputs": [
        {
          "output_type": "stream",
          "name": "stdout",
          "text": [
            "Number of test cases: 264\n"
          ]
        }
      ]
    },
    {
      "cell_type": "code",
      "source": [
        "## Initialization\n",
        "start = time.time()\n",
        "from parstdex import Parstdex\n",
        "model = Parstdex()\n",
        "print(f\"Initialization time is: {time.time()-start}s\")"
      ],
      "metadata": {
        "id": "G5523iPC5wdt",
        "colab": {
          "base_uri": "https://localhost:8080/"
        },
        "outputId": "56efc458-86e1-44a6-a303-239b4d0e9307"
      },
      "execution_count": 5,
      "outputs": [
        {
          "output_type": "stream",
          "name": "stdout",
          "text": [
            "Initialization time is: 2.9770424365997314s\n"
          ]
        }
      ]
    },
    {
      "cell_type": "code",
      "source": [
        "# Test\n",
        "sentence = \"\"\"ماریا شنبه عصر راس ساعت ۱۷ و بیست و سه دقیقه به نادیا زنگ زد اما تا سه روز بعد در تاریخ ۱۸ شهریور سال ۱۳۷۸ ه.ش. خبری از نادیا نشد\"\"\"\n",
        "start = time.time()\n",
        "result = model.extract_marker(sentence)\n",
        "print(f\"Test time for extracting markers is: {time.time()-start}s\")\n",
        "print(f\"\\nresult:\")\n",
        "pprint.pprint(result)"
      ],
      "metadata": {
        "colab": {
          "base_uri": "https://localhost:8080/"
        },
        "id": "XKc3Qex0kdRb",
        "outputId": "df977222-638a-42ad-8aa6-fdbd241c5573"
      },
      "execution_count": 14,
      "outputs": [
        {
          "output_type": "stream",
          "name": "stdout",
          "text": [
            "Test time for extracting markers is: 0.014941930770874023s\n",
            "\n",
            "result:\n",
            "{'date': {'[6, 10]': 'شنبه',\n",
            "          '[65, 78]': 'تا سه روز بعد',\n",
            "          '[82, 111]': 'تاریخ ۱۸ شهریور سال ۱۳۷۸ ه.ش.'},\n",
            " 'datetime': {'[6, 47]': 'شنبه عصر راس ساعت ۱۷ و بیست و سه دقیقه به',\n",
            "              '[65, 78]': 'تا سه روز بعد',\n",
            "              '[82, 111]': 'تاریخ ۱۸ شهریور سال ۱۳۷۸ ه.ش.'},\n",
            " 'time': {'[11, 47]': 'عصر راس ساعت ۱۷ و بیست و سه دقیقه به'}}\n"
          ]
        }
      ]
    },
    {
      "cell_type": "code",
      "source": [
        "# Mean test time\n",
        "times = []\n",
        "length = []\n",
        "for example in test_inputs:\n",
        "    start = time.time()\n",
        "    model.extract_span(example['test_input'])\n",
        "    end = time.time()\n",
        "    times.append(end - start)\n",
        "\n",
        "mean_time = np.mean(times)\n",
        "print(f\"Mean time of extracting temproal expressions for each sentence: {mean_time}s\")"
      ],
      "metadata": {
        "id": "IYWyb6UE5y5t",
        "colab": {
          "base_uri": "https://localhost:8080/"
        },
        "outputId": "1e79fcc1-259d-4e68-aec4-98e306582d33"
      },
      "execution_count": 15,
      "outputs": [
        {
          "output_type": "stream",
          "name": "stdout",
          "text": [
            "Mean time of extracting temproal expressions for each sentence: 0.006307482719421387s\n"
          ]
        }
      ]
    }
  ]
}